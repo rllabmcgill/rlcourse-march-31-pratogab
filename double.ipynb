{
 "cells": [
  {
   "cell_type": "markdown",
   "metadata": {},
   "source": [
    "# Q-learning, Double Q-learning, Expected Sarsa and Double Expected Sarsa"
   ]
  },
  {
   "cell_type": "markdown",
   "metadata": {},
   "source": [
    "<b>Gabriele Prato, McGill University</b>\n",
    "\n",
    "In this notebook, we will be comparing Q-learning, Double Q-learning, Expected Sarsa and Double Expected Sarsa. Comparison will be made on the Maximisation Bias Example found in the class textbook [1]. Our goal will be to test which algorithm is affected the less by maximisation bias and compare performance on the environment.\n",
    "\n",
    "Example 6.7 and Exercice 6.10 will be implemented.\n",
    "\n",
    "## Libraries"
   ]
  },
  {
   "cell_type": "code",
   "execution_count": 4,
   "metadata": {
    "collapsed": false
   },
   "outputs": [],
   "source": [
    "import random\n",
    "import numpy as np\n",
    "import matplotlib.pyplot as plt"
   ]
  },
  {
   "cell_type": "markdown",
   "metadata": {},
   "source": [
    "## Example 6.7\n",
    "\n",
    "The implemented Maximisation Bias Example is the same as the one described in the textbook [1]."
   ]
  },
  {
   "cell_type": "code",
   "execution_count": 5,
   "metadata": {
    "collapsed": false
   },
   "outputs": [],
   "source": [
    "class State:\n",
    "    def __init__(self, ID, isTerminal):\n",
    "        self.ID = ID\n",
    "        self.transitions = []\n",
    "        self.isTerminal = isTerminal\n",
    "                  \n",
    "    def addTransition(self, transition):\n",
    "        self.transitions.append(transition)\n",
    "                  \n",
    "class Transition:\n",
    "    def __init__(self, reward, nextState):\n",
    "        self.reward = reward\n",
    "        self.nextState = nextState\n",
    "    \n",
    "    def getReward(self):\n",
    "        return self.reward\n",
    "    \n",
    "class RandomRewardTransition(Transition):\n",
    "    def __init__(self, nextState):\n",
    "        Transition.__init__(self, 0, nextState)\n",
    "    \n",
    "    def getReward(self):\n",
    "        return np.random.normal(-0.1, 1.0, 1)[0]"
   ]
  },
  {
   "cell_type": "code",
   "execution_count": 6,
   "metadata": {
    "collapsed": false
   },
   "outputs": [],
   "source": [
    "TERMINAL = State(ID=2, isTerminal=True)\n",
    "TERMINAL.addTransition(Transition(reward=0, nextState=None))\n",
    "\n",
    "B = State(ID=1, isTerminal=False)\n",
    "for i in range(10):\n",
    "    B.addTransition(RandomRewardTransition(nextState=TERMINAL))\n",
    "\n",
    "A = State(ID=0, isTerminal=False)\n",
    "A.addTransition(Transition(reward=0, nextState=B))\n",
    "A.addTransition(Transition(reward=0, nextState=TERMINAL))"
   ]
  },
  {
   "cell_type": "markdown",
   "metadata": {},
   "source": [
    "We will now implement Q-learning and Double Q-learning. Expected Sarsa and Double Expected Sarsa will be implemented in Exercice 6.10. The class ControlAlgorithm is the basis for all four algorithms. It has all the code used to run the core algorithm multiple times, average the statistics and view the learned policy. The classes for the four algorithms will only contain the core algorithm."
   ]
  },
  {
   "cell_type": "code",
   "execution_count": 7,
   "metadata": {
    "collapsed": false
   },
   "outputs": [],
   "source": [
    "class ControlAlgorithm:\n",
    "    def __init__(self, state, ALPHA, DISCOUNT, EPSILON):\n",
    "        self.Q = [[0, 0], [0, 0, 0, 0, 0, 0, 0, 0, 0, 0], [0]]\n",
    "        self.state = state\n",
    "        self.startingState = state\n",
    "        self.ALPHA = ALPHA\n",
    "        self.DISCOUNT = DISCOUNT\n",
    "        self.EPSILON = EPSILON\n",
    "     \n",
    "    def averageMRunsOfNEpisodes(self, M, N):\n",
    "        leftActionCounterPerEpisode = np.zeros(N)\n",
    "        \n",
    "        for i in range(M):\n",
    "            self.resetQ()\n",
    "            \n",
    "            for j in range(N):\n",
    "                actionLog = self.generateEpisode()\n",
    "                if actionLog[0] == 0:\n",
    "                    leftActionCounterPerEpisode[j] += 1\n",
    "        \n",
    "        return leftActionCounterPerEpisode / float(M)\n",
    "    \n",
    "    def resetQ(self):\n",
    "        self.Q = [[0, 0], [0, 0, 0, 0, 0, 0, 0, 0, 0, 0], [0]]\n",
    "    \n",
    "    def chooseAction(self):\n",
    "        if np.random.rand(1)[0] <= self.EPSILON:\n",
    "            return np.random.randint(len(self.state.transitions), size=1)[0]\n",
    "        else:\n",
    "            return self.getMaxValuedActionOfState(self.Q, self.state)\n",
    "    \n",
    "    def getMaxValuedActionOfState(self, Q, state):\n",
    "        # If multiple actions have the same max value, we need to choose one of them randomly\n",
    "        possibleActions = []\n",
    "        maxValue = np.NINF\n",
    "        for i in range(len(state.transitions)):\n",
    "            if Q[state.ID][i] == maxValue:\n",
    "                possibleActions.append(i)\n",
    "            elif Q[state.ID][i] > maxValue:\n",
    "                possibleActions = [i]\n",
    "                maxValue = Q[state.ID][i]\n",
    "\n",
    "        return random.choice(possibleActions)"
   ]
  },
  {
   "cell_type": "code",
   "execution_count": 8,
   "metadata": {
    "collapsed": false
   },
   "outputs": [],
   "source": [
    "class Qlearning(ControlAlgorithm):\n",
    "    def __init__(self, state, ALPHA, DISCOUNT, EPSILON):\n",
    "        ControlAlgorithm.__init__(self, state, ALPHA, DISCOUNT, EPSILON)\n",
    "        \n",
    "    def generateEpisode(self):\n",
    "        self.state = self.startingState\n",
    "        reward = 0\n",
    "        actionLog = []\n",
    "\n",
    "        while not self.state == TERMINAL:\n",
    "            action = self.chooseAction()\n",
    "            actionLog.append(action)\n",
    "            reward = self.state.transitions[action].getReward()\n",
    "            nextState = self.state.transitions[action].nextState\n",
    "        \n",
    "            self.Q[self.state.ID][action] += self.ALPHA * (reward + self.DISCOUNT *\n",
    "                self.Q[nextState.ID][self.getMaxValuedActionOfState(self.Q, nextState)] - \n",
    "                self.Q[self.state.ID][action])\n",
    "        \n",
    "            self.state = nextState\n",
    "        \n",
    "        return actionLog"
   ]
  },
  {
   "cell_type": "code",
   "execution_count": 9,
   "metadata": {
    "collapsed": true
   },
   "outputs": [],
   "source": [
    "class DoubleQlearning(ControlAlgorithm):\n",
    "    def __init__(self, state, ALPHA, DISCOUNT, EPSILON):\n",
    "        ControlAlgorithm.__init__(self, state, ALPHA, DISCOUNT, EPSILON)\n",
    "        self.Q2 = [[0, 0], [0, 0, 0, 0, 0, 0, 0, 0, 0, 0], [0]]\n",
    "    \n",
    "    def resetQ(self):\n",
    "        self.Q = [[0, 0], [0, 0, 0, 0, 0, 0, 0, 0, 0, 0], [0]]\n",
    "        self.Q2 = [[0, 0], [0, 0, 0, 0, 0, 0, 0, 0, 0, 0], [0]]\n",
    "        \n",
    "    def chooseAction(self):\n",
    "        if np.random.rand(1)[0] <= self.EPSILON:\n",
    "            return np.random.randint(len(self.state.transitions), size=1)[0]\n",
    "        else:\n",
    "            return self.getMaxValuedActionOfStateUsingBothQs(self.state)\n",
    "        \n",
    "    def generateEpisode(self):\n",
    "        self.state = self.startingState\n",
    "        reward = 0\n",
    "        actionLog = []\n",
    "\n",
    "        while not self.state == TERMINAL:\n",
    "            action = self.chooseAction()\n",
    "            actionLog.append(action)\n",
    "            reward = self.state.transitions[action].getReward()\n",
    "            nextState = self.state.transitions[action].nextState\n",
    "        \n",
    "            if np.random.randint(2, size=1)[0] == 0:\n",
    "                self.Q[self.state.ID][action] += self.ALPHA * (reward + self.DISCOUNT * \n",
    "                    self.Q2[nextState.ID][self.getMaxValuedActionOfState(self.Q, nextState)] - \n",
    "                    self.Q[self.state.ID][action])\n",
    "            else:\n",
    "                self.Q2[self.state.ID][action] += self.ALPHA * (reward + self.DISCOUNT * \n",
    "                    self.Q[nextState.ID][self.getMaxValuedActionOfState(self.Q2, nextState)] - \n",
    "                    self.Q2[self.state.ID][action])\n",
    "        \n",
    "            self.state = nextState\n",
    "        \n",
    "        return actionLog\n",
    "    \n",
    "    def getMaxValuedActionOfStateUsingBothQs(self, state):\n",
    "        # If multiple actions have the same max value, we need to choose one of them randomly\n",
    "        possibleActions = []\n",
    "        maxValue = np.NINF\n",
    "        for i in range(len(state.transitions)):\n",
    "            if self.Q[state.ID][i] + self.Q2[state.ID][i] == maxValue:\n",
    "                possibleActions.append(i)\n",
    "            elif self.Q[state.ID][i] + self.Q2[state.ID][i] > maxValue:\n",
    "                possibleActions = [i]\n",
    "                maxValue = self.Q[state.ID][i] + self.Q2[state.ID][i]\n",
    "\n",
    "        return random.choice(possibleActions)"
   ]
  },
  {
   "cell_type": "markdown",
   "metadata": {},
   "source": [
    "ε, α and γ will be the same as in the book [1] for this example and throughout the notebook."
   ]
  },
  {
   "cell_type": "code",
   "execution_count": 10,
   "metadata": {
    "collapsed": true
   },
   "outputs": [],
   "source": [
    "ALPHA = 0.1\n",
    "DISCOUNT = 1.0\n",
    "EPSILON = 0.1"
   ]
  },
  {
   "cell_type": "markdown",
   "metadata": {},
   "source": [
    "Let's see how these algorithms perform on the MDP:"
   ]
  },
  {
   "cell_type": "code",
   "execution_count": 11,
   "metadata": {
    "collapsed": false
   },
   "outputs": [
    {
     "data": {
      "image/png": "[encoded data removed]",
      "text/plain": [
       "<matplotlib.figure.Figure at 0x1136fd8d0>"
      ]
     },
     "metadata": {},
     "output_type": "display_data"
    }
   ],
   "source": [
    "ql = Qlearning(A, ALPHA, DISCOUNT, EPSILON)\n",
    "leftActionPourcentagePerEpisodeQl = ql.averageMRunsOfNEpisodes(10000, 300)\n",
    "\n",
    "dql = DoubleQlearning(A, ALPHA, DISCOUNT, EPSILON)\n",
    "leftActionPourcentagePerEpisodeDQl = dql.averageMRunsOfNEpisodes(10000, 300)\n",
    "\n",
    "plt.plot(np.arange(1, 301), leftActionPourcentagePerEpisodeQl, 'r', label=\"Q-learning\")\n",
    "plt.plot(np.arange(1, 301), leftActionPourcentagePerEpisodeDQl, 'g', label=\"Double Q-learning\")\n",
    "plt.legend(bbox_to_anchor=(1.05, 1), loc=2, borderaxespad=0.)\n",
    "plt.xlabel('Episodes')\n",
    "plt.ylabel('% left actions from A')\n",
    "plt.title('Maximisation Bias Example, averaged over 10,000 runs')\n",
    "plt.show()"
   ]
  },
  {
   "cell_type": "markdown",
   "metadata": {},
   "source": [
    "As we can see, the results are very similar to the ones shown in the textbook [1]. Double Q-learning is unaffected by maximisation bias and learns to take the right action very early. Q-learning is affected by maximisation bias and learns to take the left action and over time learns to take the right action.\n",
    "\n",
    "## Exercice 6.10\n",
    "\n",
    "Here is the question found in the exercice [1]:<br/>\n",
    "<i>What are the update equations for Double Expected Sarsa with an ε-greedy target policy?</i>\n",
    "\n",
    "First let us implement Expected Sarsa:"
   ]
  },
  {
   "cell_type": "code",
   "execution_count": 18,
   "metadata": {
    "collapsed": true
   },
   "outputs": [],
   "source": [
    "class ExpectedSarsa(ControlAlgorithm):\n",
    "    def __init__(self, state, ALPHA, DISCOUNT, EPSILON):\n",
    "        ControlAlgorithm.__init__(self, state, ALPHA, DISCOUNT, EPSILON)\n",
    "        \n",
    "    def generateEpisode(self):\n",
    "        self.state = self.startingState\n",
    "        reward = 0\n",
    "        actionLog = []\n",
    "\n",
    "        while not self.state == TERMINAL:\n",
    "            action = self.chooseAction()\n",
    "            actionLog.append(action)\n",
    "            reward = self.state.transitions[action].getReward()\n",
    "            nextState = self.state.transitions[action].nextState\n",
    "        \n",
    "            self.Q[self.state.ID][action] += self.ALPHA * (reward + self.DISCOUNT *\n",
    "                self.getExpectedStateActionValue(self.Q, nextState) - self.Q[self.state.ID][action])\n",
    "        \n",
    "            self.state = nextState\n",
    "        \n",
    "        return actionLog\n",
    "    \n",
    "    def getExpectedStateActionValue(self, Q, state):\n",
    "        maxValue = max(Q[state.ID])\n",
    "            \n",
    "        # If multiple actions have the same max value\n",
    "        maxValueActions = set()\n",
    "        for i in range(len(state.transitions)):\n",
    "            if Q[state.ID][i] == maxValue:\n",
    "                maxValueActions.add(i)\n",
    "        \n",
    "        value = 0    \n",
    "        for i in range(len(state.transitions)):\n",
    "            probability = self.EPSILON / len(state.transitions)\n",
    "            if i in maxValueActions:\n",
    "                probability += (1 - self.EPSILON) / len(maxValueActions)\n",
    "            \n",
    "            value += probability * Q[state.ID][i]\n",
    "        \n",
    "        return value"
   ]
  },
  {
   "cell_type": "markdown",
   "metadata": {},
   "source": [
    "Now, here is the complete pseudocode for the Double Expected Sarsa algorithm:\n",
    "\n",
    "![pseudoCode](doubleExpectedSarsaEquation.png)\n",
    "\n",
    "And the code in python:"
   ]
  },
  {
   "cell_type": "code",
   "execution_count": 20,
   "metadata": {
    "collapsed": true
   },
   "outputs": [],
   "source": [
    "class DoubleExpectedSarsa(ExpectedSarsa):\n",
    "    def __init__(self, state, ALPHA, DISCOUNT, EPSILON):\n",
    "        ExpectedSarsa.__init__(self, state, ALPHA, DISCOUNT, EPSILON)\n",
    "        self.Q2 = [[0, 0], [0, 0, 0, 0, 0, 0, 0, 0, 0, 0], [0]]\n",
    "        \n",
    "    def resetQ(self):\n",
    "        self.Q = [[0, 0], [0, 0, 0, 0, 0, 0, 0, 0, 0, 0], [0]]\n",
    "        self.Q2 = [[0, 0], [0, 0, 0, 0, 0, 0, 0, 0, 0, 0], [0]]\n",
    "    \n",
    "    def generateEpisode(self):\n",
    "        self.state = self.startingState\n",
    "        reward = 0\n",
    "        actionLog = []\n",
    "\n",
    "        while not self.state == TERMINAL:\n",
    "            action = self.chooseAction()\n",
    "            actionLog.append(action)\n",
    "            reward = self.state.transitions[action].getReward()\n",
    "            nextState = self.state.transitions[action].nextState\n",
    "            \n",
    "            if np.random.randint(2, size=1)[0] == 0:\n",
    "                self.Q[self.state.ID][action] += self.ALPHA * (reward + self.DISCOUNT * \n",
    "                    self.getExpectedStateActionValue(self.Q2, nextState) - self.Q[self.state.ID][action])\n",
    "            else:\n",
    "                self.Q2[self.state.ID][action] += self.ALPHA * (reward + self.DISCOUNT * \n",
    "                    self.getExpectedStateActionValue(self.Q, nextState) - self.Q2[self.state.ID][action])\n",
    "        \n",
    "            self.state = nextState\n",
    "        \n",
    "        return actionLog"
   ]
  },
  {
   "cell_type": "markdown",
   "metadata": {
    "collapsed": true
   },
   "source": [
    "Let's see how they compare to our previous results:"
   ]
  },
  {
   "cell_type": "code",
   "execution_count": 21,
   "metadata": {
    "collapsed": false
   },
   "outputs": [
    {
     "data": {
      "image/png": "[encoded data removed]",
      "text/plain": [
       "<matplotlib.figure.Figure at 0x115df30d0>"
      ]
     },
     "metadata": {},
     "output_type": "display_data"
    }
   ],
   "source": [
    "expSarsa = ExpectedSarsa(A, ALPHA, DISCOUNT, EPSILON)\n",
    "leftActionPourcentagePerEpisodeExpSarsa = expSarsa.averageMRunsOfNEpisodes(10000, 300)\n",
    "\n",
    "dexpSarsa = DoubleExpectedSarsa(A, ALPHA, DISCOUNT, EPSILON)\n",
    "leftActionPourcentagePerEpisodeDExpSarsa = dexpSarsa.averageMRunsOfNEpisodes(1000, 300)\n",
    "\n",
    "plt.plot(np.arange(1, 301), leftActionPourcentagePerEpisodeQl, 'r', label=\"Q-learning\")\n",
    "plt.plot(np.arange(1, 301), leftActionPourcentagePerEpisodeDQl, 'g', label=\"Double Q-learning\")\n",
    "plt.plot(np.arange(1, 301), leftActionPourcentagePerEpisodeExpSarsa, 'b', label=\"Expected Sarsa\")\n",
    "plt.plot(np.arange(1, 301), leftActionPourcentagePerEpisodeDExpSarsa, 'y', label=\"Double Expected Sarsa\")\n",
    "plt.legend(bbox_to_anchor=(1.05, 1), loc=2, borderaxespad=0.)\n",
    "plt.xlabel('Episodes')\n",
    "plt.ylabel('% left actions from A')\n",
    "plt.title('Maximisation Bias Example, averaged over 10,000 runs')\n",
    "plt.show()"
   ]
  },
  {
   "cell_type": "markdown",
   "metadata": {},
   "source": [
    "Expected Sarsa is affected by maximisation bias, although less than Q-learning. It also learns to take the right action more slowly than Q-learning.\n",
    "\n",
    "Surprisingly, Double Expected Sarsa never learns to take the right action. It actually takes the left action more and more often. Having two estimes Q and Q2 does not help the algorithm negate the maximisation bias. \n",
    "\n",
    "## Conclusion\n",
    "\n",
    "We've implemented and compared the Q-learning, Double Q-learning, Expected Sarsa and Double Expected Sarsa algorithms on the MDP environment found in Example 6.7 of the class textbook [1].\n",
    "\n",
    "The only algorithm that was unaffected by maximisation bias was Double Q-learning. Q-learning and Expected Sarsa were affected early on in the episodes, Q-learning being affected the most. Double Expected Sarsa performed worse and worse, learning to take the left action more and more often as episodes passed.\n",
    "\n",
    "It would be interesting to try more algorithms on this problem, to see how they are affected by maximisation bias.\n",
    "\n",
    "It would also be interesting to test Double Expected Sarsa on other environments, to see which advantage it has over Expected Sarsa.\n",
    "\n",
    "## References\n",
    "\n",
    "[1] <a href=\"https://webdocs.cs.ualberta.ca/~sutton/book/the-book-2nd.html\">Richard S. Sutton and Andrew G. Barto, \"Reinforcement learning: An introduction\", Second Edition, MIT Press</a>, in preparation<br />\n",
    "Example 6.7 and Exercice 6.10 can be found on page 143-145"
   ]
  }
 ],
 "metadata": {
  "kernelspec": {
   "display_name": "Python [default]",
   "language": "python",
   "name": "python2"
  },
  "language_info": {
   "codemirror_mode": {
    "name": "ipython",
    "version": 2
   },
   "file_extension": ".py",
   "mimetype": "text/x-python",
   "name": "python",
   "nbconvert_exporter": "python",
   "pygments_lexer": "ipython2",
   "version": "2.7.13"
  }
 },
 "nbformat": 4,
 "nbformat_minor": 2
}
